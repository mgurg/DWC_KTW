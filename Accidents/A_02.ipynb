{
 "cells": [
  {
   "cell_type": "code",
   "execution_count": 1,
   "metadata": {},
   "outputs": [],
   "source": [
    "import pandas as pd\n",
    "import numpy as np\n",
    "import re\n",
    "import time\n",
    "\n",
    "import missingno as msno\n",
    "import matplotlib.pyplot as plt\n",
    "%matplotlib inline"
   ]
  },
  {
   "cell_type": "code",
   "execution_count": 6,
   "metadata": {},
   "outputs": [
    {
     "name": "stdout",
     "output_type": "stream",
     "text": [
      "<class 'pandas.core.frame.DataFrame'>\n",
      "RangeIndex: 229929 entries, 0 to 229928\n",
      "Data columns (total 32 columns):\n",
      " #   Column                             Non-Null Count   Dtype  \n",
      "---  ------                             --------------   -----  \n",
      " 0   Unnamed: 0                         229929 non-null  int64  \n",
      " 1   miejscowosc                        229929 non-null  object \n",
      " 2   ulica                              209201 non-null  object \n",
      " 3   obszar                             229928 non-null  float64\n",
      " 4   skrzyzowanie                       63150 non-null   float64\n",
      " 5   charakterystyka_miejsca_zdarzenia  229927 non-null  object \n",
      " 6   oswietlenie                        229929 non-null  object \n",
      " 7   warunki_atmosferyczne              229928 non-null  object \n",
      " 8   wina                               229929 non-null  object \n",
      " 9   rodzaj_drogi                       229928 non-null  object \n",
      " 10  nawierzchnia_drogi                 229928 non-null  object \n",
      " 11  stan_nawierzchni                   229928 non-null  object \n",
      " 12  sygnalizacja_swietlna              229929 non-null  object \n",
      " 13  oznakowanie_poziome                229927 non-null  object \n",
      " 14  inne_przyczyny                     26203 non-null   object \n",
      " 15  ranni                              229929 non-null  int64  \n",
      " 16  zabici                             229929 non-null  int64  \n",
      " 17  kolizje                            229929 non-null  int64  \n",
      " 18  wypadki                            229929 non-null  int64  \n",
      " 19  data                               229929 non-null  object \n",
      " 20  lat                                229929 non-null  float64\n",
      " 21  lon                                229929 non-null  float64\n",
      " 22  pogoda_dobre_warunki               229929 non-null  int64  \n",
      " 23  pogoda_pochmurno                   229929 non-null  int64  \n",
      " 24  pogoda_mgla                        229929 non-null  int64  \n",
      " 25  pogoda_dym                         229929 non-null  int64  \n",
      " 26  pogoda_oslep_slonce                229929 non-null  int64  \n",
      " 27  pogoda_opady                       229929 non-null  int64  \n",
      " 28  pogoda_snieg                       229929 non-null  int64  \n",
      " 29  pogoda_grad                        229929 non-null  int64  \n",
      " 30  pogoda_deszcz                      229929 non-null  int64  \n",
      " 31  pogoda_wiatr                       229929 non-null  int64  \n",
      "dtypes: float64(4), int64(15), object(13)\n",
      "memory usage: 56.1+ MB\n"
     ]
    }
   ],
   "source": [
    "df = pd.read_csv('./data/clean_data.csv')\n",
    "df.info()"
   ]
  },
  {
   "cell_type": "code",
   "execution_count": 12,
   "metadata": {},
   "outputs": [],
   "source": [
    "\n",
    "df['rok'] = pd.DatetimeIndex(df['data']).year\n",
    "df['miesiac'] = pd.DatetimeIndex(df['data']).month\n",
    "df['godzina'] = pd.DatetimeIndex(df['data']).hour\n",
    "df['minuta'] = pd.DatetimeIndex(df['data']).minute\n",
    "df['pelna_data'] = pd.DatetimeIndex(df['data']).date # żeby rozróżnić dzień miesiąca, ex. 2019-05-18\n",
    "\n",
    "#Który to był dzień tygodnia? poniedziałek = 0, niedziela = 6\n",
    "df['dzien_tygodnia'] = pd.DatetimeIndex(df['data']).dayofweek\n",
    "\n",
    "#Czy to był weekend?\n",
    "df['czy_weekend'] = df['dzien_tygodnia'].apply(lambda x: 1 if (x == 6 or x == 5 ) else 0 )\n"
   ]
  },
  {
   "cell_type": "markdown",
   "metadata": {},
   "source": [
    "- W jakm mieście na śląsku jest najwięcej wypadków?"
   ]
  },
  {
   "cell_type": "code",
   "execution_count": 9,
   "metadata": {},
   "outputs": [
    {
     "data": {
      "text/plain": [
       "miejscowosc\n",
       "KATOWICE            26912\n",
       "CZĘSTOCHOWA         17832\n",
       "GLIWICE             13152\n",
       "BIELSKO-BIAŁA       12170\n",
       "SOSNOWIEC           11317\n",
       "DĄBROWA GÓRNICZA     7478\n",
       "ZABRZE               7218\n",
       "BYTOM                6467\n",
       "RYBNIK               5799\n",
       "TYCHY                5759\n",
       "Name: miejscowosc, dtype: int64"
      ]
     },
     "execution_count": 9,
     "metadata": {},
     "output_type": "execute_result"
    }
   ],
   "source": [
    "df.groupby('miejscowosc')['miejscowosc'].count().sort_values(ascending=False).head(10)"
   ]
  },
  {
   "cell_type": "markdown",
   "metadata": {},
   "source": [
    "- Liczba wypadków na 1000 mieszkańców."
   ]
  },
  {
   "cell_type": "code",
   "execution_count": 15,
   "metadata": {},
   "outputs": [],
   "source": [
    "#\n",
    "#\n",
    "#"
   ]
  },
  {
   "cell_type": "markdown",
   "metadata": {},
   "source": [
    "- Rozkład wypadków w czasie (dzień, mc, dzień tygodnia)."
   ]
  },
  {
   "cell_type": "code",
   "execution_count": 13,
   "metadata": {},
   "outputs": [
    {
     "data": {
      "text/plain": [
       "rok\n",
       "2019    61169\n",
       "2018    57830\n",
       "2017    57671\n",
       "2016    53259\n",
       "Name: rok, dtype: int64"
      ]
     },
     "execution_count": 13,
     "metadata": {},
     "output_type": "execute_result"
    }
   ],
   "source": [
    "df.groupby('rok')['rok'].count().sort_values(ascending=False)"
   ]
  },
  {
   "cell_type": "code",
   "execution_count": 14,
   "metadata": {},
   "outputs": [
    {
     "data": {
      "text/plain": [
       "miesiac\n",
       "10    22885\n",
       "12    21565\n",
       "9     20430\n",
       "11    19394\n",
       "5     19071\n",
       "4     18689\n",
       "6     18596\n",
       "1     18331\n",
       "7     18217\n",
       "8     18174\n",
       "3     18045\n",
       "2     16532\n",
       "Name: miesiac, dtype: int64"
      ]
     },
     "execution_count": 14,
     "metadata": {},
     "output_type": "execute_result"
    }
   ],
   "source": [
    "df.groupby('miesiac')['miesiac'].count().sort_values(ascending=False)"
   ]
  },
  {
   "cell_type": "code",
   "execution_count": 16,
   "metadata": {},
   "outputs": [
    {
     "data": {
      "text/plain": [
       "dzien_tygodnia\n",
       "4    39188\n",
       "3    36229\n",
       "0    36218\n",
       "2    35909\n",
       "1    35897\n",
       "5    27260\n",
       "6    19228\n",
       "Name: dzien_tygodnia, dtype: int64"
      ]
     },
     "execution_count": 16,
     "metadata": {},
     "output_type": "execute_result"
    }
   ],
   "source": [
    "df.groupby('dzien_tygodnia')['dzien_tygodnia'].count().sort_values(ascending=False)"
   ]
  },
  {
   "cell_type": "markdown",
   "metadata": {},
   "source": [
    "\n",
    "- Korelacja wypadków z fazą księżyca.\n",
    "- W jakich miejscach jest najwięcej wypadków.\n",
    "- Powody wypadków, a dzień lub godzina\n",
    "- Wyciągnąć z OSM wypadki pieszych, czy w pobliżu były pasy dla pieszych.\n",
    "- Korelacja wypadków z otaczającym terenem.\n",
    "- Korelacja wypadków z gęstością zaludnienia.\n",
    "- Korelacja wypadków z odległością od centrum.\n",
    "- Korelacja wypadków z odległością od przystanków.\n",
    "- Korelacja obszaru z ilością wypadków.\n",
    "- Korelacja wypadków z ograniczeniami prędkości.\n",
    "- Porównanie strefy 30 vs bez strefy.\n",
    "- Porównanie wypadków na przejściach z dozwoloną prędkością.\n",
    "- Warunki pogodowe vs wypadki.\n",
    "- Zmiana czasu (lato\\zima), a wypadki.\n",
    "- Wypłata pensji (data),a wypadki na drodze.\n",
    "- Czy nagła zmiana temperatury miała wpływ na ilość wypadków"
   ]
  }
 ],
 "metadata": {
  "kernelspec": {
   "display_name": "Python 3",
   "language": "python",
   "name": "python3"
  },
  "language_info": {
   "codemirror_mode": {
    "name": "ipython",
    "version": 3
   },
   "file_extension": ".py",
   "mimetype": "text/x-python",
   "name": "python",
   "nbconvert_exporter": "python",
   "pygments_lexer": "ipython3",
   "version": "3.7.7"
  }
 },
 "nbformat": 4,
 "nbformat_minor": 4
}
