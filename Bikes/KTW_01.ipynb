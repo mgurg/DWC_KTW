{
 "cells": [
  {
   "cell_type": "markdown",
   "metadata": {},
   "source": [
    "# KTW_01: Citybike - 2018\n",
    "\n",
    "Dane: https://otwartedane.medialabkatowice.eu/dataset/rower-miejski"
   ]
  },
  {
   "cell_type": "code",
   "execution_count": 29,
   "metadata": {},
   "outputs": [],
   "source": [
    "import pandas as pd\n",
    "import matplotlib.pyplot as plt\n",
    "\n",
    "#df_s18 = pd.read_csv('./data_01/stacje_2018.csv')\n",
    "#df_s19 = pd.read_csv('./data_01/stacje_2019.csv')\n",
    "#df_w18 = pd.read_csv('./data_01/wyp_2017.csv')\n",
    "wyp = pd.read_csv('./data_01/wyp_2018.csv')"
   ]
  },
  {
   "cell_type": "code",
   "execution_count": 5,
   "metadata": {},
   "outputs": [
    {
     "name": "stdout",
     "output_type": "stream",
     "text": [
      "<class 'pandas.core.frame.DataFrame'>\n",
      "RangeIndex: 193328 entries, 0 to 193327\n",
      "Data columns (total 6 columns):\n",
      "bike_num        193328 non-null int64\n",
      "start_time      193328 non-null object\n",
      "end_time        193328 non-null object\n",
      "departure       193328 non-null object\n",
      "return          193328 non-null object\n",
      "duration_sec    193328 non-null int64\n",
      "dtypes: int64(2), object(4)\n",
      "memory usage: 8.8+ MB\n"
     ]
    }
   ],
   "source": [
    "wyp.info()"
   ]
  },
  {
   "cell_type": "code",
   "execution_count": 6,
   "metadata": {},
   "outputs": [
    {
     "data": {
      "text/html": [
       "<div>\n",
       "<style scoped>\n",
       "    .dataframe tbody tr th:only-of-type {\n",
       "        vertical-align: middle;\n",
       "    }\n",
       "\n",
       "    .dataframe tbody tr th {\n",
       "        vertical-align: top;\n",
       "    }\n",
       "\n",
       "    .dataframe thead th {\n",
       "        text-align: right;\n",
       "    }\n",
       "</style>\n",
       "<table border=\"1\" class=\"dataframe\">\n",
       "  <thead>\n",
       "    <tr style=\"text-align: right;\">\n",
       "      <th></th>\n",
       "      <th>bike_num</th>\n",
       "      <th>start_time</th>\n",
       "      <th>end_time</th>\n",
       "      <th>departure</th>\n",
       "      <th>return</th>\n",
       "      <th>duration_sec</th>\n",
       "    </tr>\n",
       "  </thead>\n",
       "  <tbody>\n",
       "    <tr>\n",
       "      <td>126862</td>\n",
       "      <td>58561</td>\n",
       "      <td>2018-08-08 19:54:08</td>\n",
       "      <td>2018-08-08 20:00:42</td>\n",
       "      <td>Osiedle Franciszkańskie</td>\n",
       "      <td>Kokociniec S.P nr 67</td>\n",
       "      <td>394</td>\n",
       "    </tr>\n",
       "    <tr>\n",
       "      <td>158250</td>\n",
       "      <td>58606</td>\n",
       "      <td>2018-09-09 17:19:28</td>\n",
       "      <td>2018-09-09 18:54:26</td>\n",
       "      <td>Katowice Rynek</td>\n",
       "      <td>Murapol Mariacka</td>\n",
       "      <td>5698</td>\n",
       "    </tr>\n",
       "    <tr>\n",
       "      <td>62444</td>\n",
       "      <td>58886</td>\n",
       "      <td>2018-06-06 07:14:08</td>\n",
       "      <td>2018-06-06 07:22:08</td>\n",
       "      <td>Katowice Rynek</td>\n",
       "      <td>Politechnika Śląska</td>\n",
       "      <td>480</td>\n",
       "    </tr>\n",
       "  </tbody>\n",
       "</table>\n",
       "</div>"
      ],
      "text/plain": [
       "        bike_num           start_time             end_time  \\\n",
       "126862     58561  2018-08-08 19:54:08  2018-08-08 20:00:42   \n",
       "158250     58606  2018-09-09 17:19:28  2018-09-09 18:54:26   \n",
       "62444      58886  2018-06-06 07:14:08  2018-06-06 07:22:08   \n",
       "\n",
       "                      departure                return  duration_sec  \n",
       "126862  Osiedle Franciszkańskie  Kokociniec S.P nr 67           394  \n",
       "158250           Katowice Rynek      Murapol Mariacka          5698  \n",
       "62444            Katowice Rynek   Politechnika Śląska           480  "
      ]
     },
     "execution_count": 6,
     "metadata": {},
     "output_type": "execute_result"
    }
   ],
   "source": [
    "wyp.sample(3)"
   ]
  },
  {
   "cell_type": "code",
   "execution_count": 7,
   "metadata": {},
   "outputs": [
    {
     "data": {
      "text/html": [
       "<div>\n",
       "<style scoped>\n",
       "    .dataframe tbody tr th:only-of-type {\n",
       "        vertical-align: middle;\n",
       "    }\n",
       "\n",
       "    .dataframe tbody tr th {\n",
       "        vertical-align: top;\n",
       "    }\n",
       "\n",
       "    .dataframe thead th {\n",
       "        text-align: right;\n",
       "    }\n",
       "</style>\n",
       "<table border=\"1\" class=\"dataframe\">\n",
       "  <thead>\n",
       "    <tr style=\"text-align: right;\">\n",
       "      <th></th>\n",
       "      <th>bike_num</th>\n",
       "      <th>duration_sec</th>\n",
       "    </tr>\n",
       "  </thead>\n",
       "  <tbody>\n",
       "    <tr>\n",
       "      <td>count</td>\n",
       "      <td>193328.000000</td>\n",
       "      <td>193328.000000</td>\n",
       "    </tr>\n",
       "    <tr>\n",
       "      <td>mean</td>\n",
       "      <td>58652.008338</td>\n",
       "      <td>1822.247393</td>\n",
       "    </tr>\n",
       "    <tr>\n",
       "      <td>std</td>\n",
       "      <td>157.074455</td>\n",
       "      <td>3368.459259</td>\n",
       "    </tr>\n",
       "    <tr>\n",
       "      <td>min</td>\n",
       "      <td>58346.000000</td>\n",
       "      <td>0.000000</td>\n",
       "    </tr>\n",
       "    <tr>\n",
       "      <td>25%</td>\n",
       "      <td>58533.000000</td>\n",
       "      <td>385.000000</td>\n",
       "    </tr>\n",
       "    <tr>\n",
       "      <td>50%</td>\n",
       "      <td>58647.000000</td>\n",
       "      <td>704.000000</td>\n",
       "    </tr>\n",
       "    <tr>\n",
       "      <td>75%</td>\n",
       "      <td>58796.000000</td>\n",
       "      <td>2020.000000</td>\n",
       "    </tr>\n",
       "    <tr>\n",
       "      <td>max</td>\n",
       "      <td>58912.000000</td>\n",
       "      <td>251016.000000</td>\n",
       "    </tr>\n",
       "  </tbody>\n",
       "</table>\n",
       "</div>"
      ],
      "text/plain": [
       "            bike_num   duration_sec\n",
       "count  193328.000000  193328.000000\n",
       "mean    58652.008338    1822.247393\n",
       "std       157.074455    3368.459259\n",
       "min     58346.000000       0.000000\n",
       "25%     58533.000000     385.000000\n",
       "50%     58647.000000     704.000000\n",
       "75%     58796.000000    2020.000000\n",
       "max     58912.000000  251016.000000"
      ]
     },
     "execution_count": 7,
     "metadata": {},
     "output_type": "execute_result"
    }
   ],
   "source": [
    "wyp.describe()"
   ]
  },
  {
   "cell_type": "markdown",
   "metadata": {},
   "source": [
    "## Średni czas wypożyczenia "
   ]
  },
  {
   "cell_type": "code",
   "execution_count": 17,
   "metadata": {},
   "outputs": [
    {
     "data": {
      "text/plain": [
       "1822.2473930315318"
      ]
     },
     "execution_count": 17,
     "metadata": {},
     "output_type": "execute_result"
    }
   ],
   "source": [
    "wyp.duration_sec.mean()"
   ]
  },
  {
   "cell_type": "markdown",
   "metadata": {},
   "source": [
    "## Liczba bezpłatnych wypożyczeń\n",
    "Czas wypożyczenia < 15 min"
   ]
  },
  {
   "cell_type": "code",
   "execution_count": 8,
   "metadata": {},
   "outputs": [
    {
     "data": {
      "text/plain": [
       "bike_num        114372\n",
       "start_time      114372\n",
       "end_time        114372\n",
       "departure       114372\n",
       "return          114372\n",
       "duration_sec    114372\n",
       "dtype: int64"
      ]
     },
     "execution_count": 8,
     "metadata": {},
     "output_type": "execute_result"
    }
   ],
   "source": [
    "wyp[wyp.duration_sec < 15*60 ].count()"
   ]
  },
  {
   "cell_type": "markdown",
   "metadata": {},
   "source": [
    "Poza zadaniem : sortowanie dataframe po wybranej kolumnie "
   ]
  },
  {
   "cell_type": "code",
   "execution_count": 9,
   "metadata": {},
   "outputs": [
    {
     "data": {
      "text/html": [
       "<div>\n",
       "<style scoped>\n",
       "    .dataframe tbody tr th:only-of-type {\n",
       "        vertical-align: middle;\n",
       "    }\n",
       "\n",
       "    .dataframe tbody tr th {\n",
       "        vertical-align: top;\n",
       "    }\n",
       "\n",
       "    .dataframe thead th {\n",
       "        text-align: right;\n",
       "    }\n",
       "</style>\n",
       "<table border=\"1\" class=\"dataframe\">\n",
       "  <thead>\n",
       "    <tr style=\"text-align: right;\">\n",
       "      <th></th>\n",
       "      <th>bike_num</th>\n",
       "      <th>start_time</th>\n",
       "      <th>end_time</th>\n",
       "      <th>departure</th>\n",
       "      <th>return</th>\n",
       "      <th>duration_sec</th>\n",
       "    </tr>\n",
       "  </thead>\n",
       "  <tbody>\n",
       "    <tr>\n",
       "      <td>138692</td>\n",
       "      <td>58346</td>\n",
       "      <td>2018-08-18 22:37:46</td>\n",
       "      <td>2018-08-18 22:57:41</td>\n",
       "      <td>Katowice Rynek</td>\n",
       "      <td>Al. Bolesława Krzywoustego</td>\n",
       "      <td>1195</td>\n",
       "    </tr>\n",
       "    <tr>\n",
       "      <td>133710</td>\n",
       "      <td>58346</td>\n",
       "      <td>2018-08-14 19:21:24</td>\n",
       "      <td>2018-08-14 20:18:54</td>\n",
       "      <td>Osiedle Franciszkańskie</td>\n",
       "      <td>Katowice Rynek</td>\n",
       "      <td>3450</td>\n",
       "    </tr>\n",
       "    <tr>\n",
       "      <td>133755</td>\n",
       "      <td>58346</td>\n",
       "      <td>2018-08-14 20:33:13</td>\n",
       "      <td>2018-08-14 20:40:48</td>\n",
       "      <td>Katowice Rynek</td>\n",
       "      <td>KTBS – Krasińskiego 14</td>\n",
       "      <td>455</td>\n",
       "    </tr>\n",
       "    <tr>\n",
       "      <td>133815</td>\n",
       "      <td>58346</td>\n",
       "      <td>2018-08-14 21:19:15</td>\n",
       "      <td>2018-08-14 21:20:47</td>\n",
       "      <td>KTBS – Krasińskiego 14</td>\n",
       "      <td>KTBS – Krasińskiego 14</td>\n",
       "      <td>92</td>\n",
       "    </tr>\n",
       "    <tr>\n",
       "      <td>152119</td>\n",
       "      <td>58346</td>\n",
       "      <td>2018-09-01 18:18:26</td>\n",
       "      <td>2018-09-01 18:30:59</td>\n",
       "      <td>Silesia City Center</td>\n",
       "      <td>Katowice Rynek</td>\n",
       "      <td>753</td>\n",
       "    </tr>\n",
       "    <tr>\n",
       "      <td>...</td>\n",
       "      <td>...</td>\n",
       "      <td>...</td>\n",
       "      <td>...</td>\n",
       "      <td>...</td>\n",
       "      <td>...</td>\n",
       "      <td>...</td>\n",
       "    </tr>\n",
       "    <tr>\n",
       "      <td>192171</td>\n",
       "      <td>58910</td>\n",
       "      <td>2018-12-03 13:45:17</td>\n",
       "      <td>2018-12-03 15:15:57</td>\n",
       "      <td>COP24</td>\n",
       "      <td>COP24</td>\n",
       "      <td>5440</td>\n",
       "    </tr>\n",
       "    <tr>\n",
       "      <td>192269</td>\n",
       "      <td>58911</td>\n",
       "      <td>2018-12-04 12:29:32</td>\n",
       "      <td>2018-12-04 14:38:46</td>\n",
       "      <td>COP24</td>\n",
       "      <td>COP24</td>\n",
       "      <td>7754</td>\n",
       "    </tr>\n",
       "    <tr>\n",
       "      <td>192198</td>\n",
       "      <td>58911</td>\n",
       "      <td>2018-12-03 17:38:04</td>\n",
       "      <td>2018-12-03 17:41:02</td>\n",
       "      <td>COP24</td>\n",
       "      <td>COP24</td>\n",
       "      <td>178</td>\n",
       "    </tr>\n",
       "    <tr>\n",
       "      <td>193034</td>\n",
       "      <td>58911</td>\n",
       "      <td>2018-12-12 11:00:23</td>\n",
       "      <td>2018-12-12 11:09:14</td>\n",
       "      <td>COP24</td>\n",
       "      <td>Koszutka – Plac Gwarków</td>\n",
       "      <td>531</td>\n",
       "    </tr>\n",
       "    <tr>\n",
       "      <td>192196</td>\n",
       "      <td>58912</td>\n",
       "      <td>2018-12-03 17:36:25</td>\n",
       "      <td>2018-12-03 17:39:07</td>\n",
       "      <td>COP24</td>\n",
       "      <td>COP24</td>\n",
       "      <td>162</td>\n",
       "    </tr>\n",
       "  </tbody>\n",
       "</table>\n",
       "<p>193328 rows × 6 columns</p>\n",
       "</div>"
      ],
      "text/plain": [
       "        bike_num           start_time             end_time  \\\n",
       "138692     58346  2018-08-18 22:37:46  2018-08-18 22:57:41   \n",
       "133710     58346  2018-08-14 19:21:24  2018-08-14 20:18:54   \n",
       "133755     58346  2018-08-14 20:33:13  2018-08-14 20:40:48   \n",
       "133815     58346  2018-08-14 21:19:15  2018-08-14 21:20:47   \n",
       "152119     58346  2018-09-01 18:18:26  2018-09-01 18:30:59   \n",
       "...          ...                  ...                  ...   \n",
       "192171     58910  2018-12-03 13:45:17  2018-12-03 15:15:57   \n",
       "192269     58911  2018-12-04 12:29:32  2018-12-04 14:38:46   \n",
       "192198     58911  2018-12-03 17:38:04  2018-12-03 17:41:02   \n",
       "193034     58911  2018-12-12 11:00:23  2018-12-12 11:09:14   \n",
       "192196     58912  2018-12-03 17:36:25  2018-12-03 17:39:07   \n",
       "\n",
       "                      departure                      return  duration_sec  \n",
       "138692           Katowice Rynek  Al. Bolesława Krzywoustego          1195  \n",
       "133710  Osiedle Franciszkańskie              Katowice Rynek          3450  \n",
       "133755           Katowice Rynek      KTBS – Krasińskiego 14           455  \n",
       "133815   KTBS – Krasińskiego 14      KTBS – Krasińskiego 14            92  \n",
       "152119      Silesia City Center              Katowice Rynek           753  \n",
       "...                         ...                         ...           ...  \n",
       "192171                    COP24                       COP24          5440  \n",
       "192269                    COP24                       COP24          7754  \n",
       "192198                    COP24                       COP24           178  \n",
       "193034                    COP24     Koszutka – Plac Gwarków           531  \n",
       "192196                    COP24                       COP24           162  \n",
       "\n",
       "[193328 rows x 6 columns]"
      ]
     },
     "execution_count": 9,
     "metadata": {},
     "output_type": "execute_result"
    }
   ],
   "source": [
    "wyp.sort_values('bike_num')"
   ]
  },
  {
   "cell_type": "markdown",
   "metadata": {},
   "source": [
    "## Najpopularniejszy rower"
   ]
  },
  {
   "cell_type": "code",
   "execution_count": 28,
   "metadata": {},
   "outputs": [
    {
     "data": {
      "text/plain": [
       "bike_num\n",
       "58463    822\n",
       "Name: bike_num, dtype: int64"
      ]
     },
     "execution_count": 28,
     "metadata": {},
     "output_type": "execute_result"
    }
   ],
   "source": [
    "wyp.groupby('bike_num')['bike_num'].count().sort_values(ascending=False).head(1)"
   ]
  },
  {
   "cell_type": "markdown",
   "metadata": {},
   "source": [
    "## Liczba wypożyczeń per stacja"
   ]
  },
  {
   "cell_type": "code",
   "execution_count": 31,
   "metadata": {},
   "outputs": [
    {
     "data": {
      "text/plain": [
       "departure\n",
       "Katowice Rynek                           31059\n",
       "Silesia City Center                       9540\n",
       "KTBS – Krasińskiego 14                    9247\n",
       "Murapol Mariacka                          8998\n",
       "Al. Bolesława Krzywoustego                7526\n",
       "Al. Księcia Henryka Pobożnego             6843\n",
       "Dolina 3-ch Stawów                        6739\n",
       "COP24                                     6621\n",
       "Ul. Powstańców - Biblioteka Śląska        6216\n",
       "Plac Sejmu Śląskiego                      6069\n",
       "Murapol Chorzowska                        5681\n",
       "Plac Wolności                             5471\n",
       "Załęże Skwer S. Barei                     5002\n",
       "Ligota Medyków                            4788\n",
       "Galeria 3 Stawy                           4409\n",
       "Al. Księżnej Jadwigi Śląskiej             4166\n",
       "Politechnika Śląska                       4131\n",
       "Park Kościuszki                           3914\n",
       "Koszutka – Plac Gwarków                   3833\n",
       "Ligota Dworzec PKP                        3690\n",
       "Green Park                                3599\n",
       "KTBS – Saint Etienne 1                    3439\n",
       "Ligota Wczasowa                           3262\n",
       "Silesia Business Park                     2912\n",
       "Bogucice Szpital                          2442\n",
       "Zadole Kościół                            2436\n",
       "ING Sokolska                              2211\n",
       "Skwer Bolesława Szabelskiego              2097\n",
       "Osiedle Franciszkańskie                   2052\n",
       "Łętowskiego S.P. nr 27                    1925\n",
       "Armii Krajowej/Jankego                    1898\n",
       "Kostuchna – Bażantów                      1759\n",
       "Giszowiec - Plac Pod Lipami               1613\n",
       "Piotrowice V L.O.                         1591\n",
       "Kostuchna – Rondo Rostworowskiego         1590\n",
       "Osiedle Witosa - Plac Herberta            1496\n",
       "Os. Ptasie – ul. Gawronów                 1468\n",
       "Os. Kukuczki – Skwer Koszycki             1386\n",
       "Os. Witosa – ul. Rataja                   1254\n",
       "Kokociniec S.P nr 67                      1170\n",
       "Nikiszowiec Lodowisko Jantor              1158\n",
       "Os. Ptasie – ul. Drozdów                  1110\n",
       "Kostuchna – Szarych Szeregów               942\n",
       "Szopienice - Plac Powstańców Śląskich      931\n",
       "GPP Business Park                          809\n",
       "Murcki - Rynek Murckowski                  621\n",
       "Nikiszowiec – Św. Anny                     571\n",
       "Podlesie – Stary Most                      516\n",
       "Kostuchna – Boże Dary                      487\n",
       "PKN Orlen - Murckowska                     249\n",
       "PKN Orlen - Piotrowicka                    208\n",
       "PKN Orlen - Bocheńskiego                    93\n",
       "ING Roździeńska                             54\n",
       "PKN Orlen - Al. Roździeńskiego              36\n",
       "Name: duration_sec, dtype: int64"
      ]
     },
     "execution_count": 31,
     "metadata": {},
     "output_type": "execute_result"
    }
   ],
   "source": [
    "wyp.groupby('departure')['duration_sec'].count().sort_values(ascending=False)"
   ]
  },
  {
   "cell_type": "markdown",
   "metadata": {},
   "source": [
    "## Liczba zwrotów per stacja"
   ]
  },
  {
   "cell_type": "code",
   "execution_count": 34,
   "metadata": {},
   "outputs": [
    {
     "data": {
      "text/plain": [
       "return\n",
       "Katowice Rynek                           32656\n",
       "Murapol Mariacka                          9286\n",
       "KTBS – Krasińskiego 14                    9104\n",
       "Silesia City Center                       8886\n",
       "Al. Bolesława Krzywoustego                8233\n",
       "Al. Księcia Henryka Pobożnego             7118\n",
       "Dolina 3-ch Stawów                        7018\n",
       "COP24                                     6339\n",
       "Ul. Powstańców - Biblioteka Śląska        6088\n",
       "Plac Sejmu Śląskiego                      5813\n",
       "Plac Wolności                             5632\n",
       "Murapol Chorzowska                        5288\n",
       "Załęże Skwer S. Barei                     4996\n",
       "Ligota Medyków                            4826\n",
       "Galeria 3 Stawy                           4574\n",
       "Al. Księżnej Jadwigi Śląskiej             4240\n",
       "Park Kościuszki                           3790\n",
       "Politechnika Śląska                       3768\n",
       "Ligota Dworzec PKP                        3672\n",
       "KTBS – Saint Etienne 1                    3608\n",
       "Green Park                                3531\n",
       "Koszutka – Plac Gwarków                   3484\n",
       "Ligota Wczasowa                           3345\n",
       "Silesia Business Park                     2855\n",
       "Bogucice Szpital                          2488\n",
       "Zadole Kościół                            2330\n",
       "Osiedle Franciszkańskie                   2162\n",
       "Łętowskiego S.P. nr 27                    2022\n",
       "ING Sokolska                              1974\n",
       "Skwer Bolesława Szabelskiego              1973\n",
       "Armii Krajowej/Jankego                    1938\n",
       "Kostuchna – Bażantów                      1759\n",
       "Giszowiec - Plac Pod Lipami               1650\n",
       "Piotrowice V L.O.                         1575\n",
       "Kostuchna – Rondo Rostworowskiego         1476\n",
       "Osiedle Witosa - Plac Herberta            1407\n",
       "Os. Kukuczki – Skwer Koszycki             1368\n",
       "Kokociniec S.P nr 67                      1273\n",
       "Os. Witosa – ul. Rataja                   1250\n",
       "Nikiszowiec Lodowisko Jantor              1196\n",
       "Os. Ptasie – ul. Gawronów                 1098\n",
       "Szopienice - Plac Powstańców Śląskich     1073\n",
       "Os. Ptasie – ul. Drozdów                  1010\n",
       "Podlesie – Stary Most                      758\n",
       "Kostuchna – Boże Dary                      626\n",
       "Murcki - Rynek Murckowski                  609\n",
       "GPP Business Park                          591\n",
       "Nikiszowiec – Św. Anny                     542\n",
       "Kostuchna – Szarych Szeregów               512\n",
       "PKN Orlen - Piotrowicka                    191\n",
       "PKN Orlen - Murckowska                     165\n",
       "PKN Orlen - Bocheńskiego                    91\n",
       "PKN Orlen - Al. Roździeńskiego              41\n",
       "ING Roździeńska                             30\n",
       "Name: duration_sec, dtype: int64"
      ]
     },
     "execution_count": 34,
     "metadata": {},
     "output_type": "execute_result"
    }
   ],
   "source": [
    "wyp.groupby('return')['duration_sec'].count().sort_values(ascending=False)"
   ]
  },
  {
   "cell_type": "markdown",
   "metadata": {},
   "source": [
    "## Najpopularniejsza trasa"
   ]
  },
  {
   "cell_type": "code",
   "execution_count": 35,
   "metadata": {},
   "outputs": [
    {
     "data": {
      "text/plain": [
       "departure                       return                           \n",
       "Katowice Rynek                  Katowice Rynek                       7273\n",
       "Dolina 3-ch Stawów              Dolina 3-ch Stawów                   3960\n",
       "Al. Księcia Henryka Pobożnego   Al. Księcia Henryka Pobożnego        3512\n",
       "KTBS – Krasińskiego 14          Katowice Rynek                       3422\n",
       "Al. Bolesława Krzywoustego      Al. Bolesława Krzywoustego           3284\n",
       "                                                                     ... \n",
       "ING Roździeńska                 Załęże Skwer S. Barei                   1\n",
       "PKN Orlen - Al. Roździeńskiego  Plac Wolności                           1\n",
       "                                Os. Kukuczki – Skwer Koszycki           1\n",
       "                                Koszutka – Plac Gwarków                 1\n",
       "Murapol Chorzowska              Kostuchna – Rondo Rostworowskiego       1\n",
       "Name: duration_sec, Length: 2141, dtype: int64"
      ]
     },
     "execution_count": 35,
     "metadata": {},
     "output_type": "execute_result"
    }
   ],
   "source": [
    "wyp.groupby(['departure', 'return'])['duration_sec'].count().sort_values(ascending=False)"
   ]
  },
  {
   "cell_type": "markdown",
   "metadata": {},
   "source": [
    "## Najpopularniejszy miesiąc"
   ]
  },
  {
   "cell_type": "markdown",
   "metadata": {},
   "source": [
    "Zmiana formatu kolumn start `time` i `endtime` z object na datetime64"
   ]
  },
  {
   "cell_type": "code",
   "execution_count": 11,
   "metadata": {},
   "outputs": [
    {
     "name": "stdout",
     "output_type": "stream",
     "text": [
      "<class 'pandas.core.frame.DataFrame'>\n",
      "RangeIndex: 193328 entries, 0 to 193327\n",
      "Data columns (total 6 columns):\n",
      "bike_num        193328 non-null int64\n",
      "start_time      193328 non-null datetime64[ns]\n",
      "end_time        193328 non-null datetime64[ns]\n",
      "departure       193328 non-null object\n",
      "return          193328 non-null object\n",
      "duration_sec    193328 non-null int64\n",
      "dtypes: datetime64[ns](2), int64(2), object(2)\n",
      "memory usage: 8.8+ MB\n"
     ]
    }
   ],
   "source": [
    "wyp['start_time'] = pd.to_datetime(wyp['start_time'], format='%Y-%m-%d %H:%M:%S')\n",
    "wyp['end_time'] = pd.to_datetime(wyp['end_time'], format='%Y-%m-%d %H:%M:%S')\n",
    "wyp.info()"
   ]
  },
  {
   "cell_type": "markdown",
   "metadata": {},
   "source": [
    "Dodanie kolumn `day` i `month`"
   ]
  },
  {
   "cell_type": "code",
   "execution_count": 17,
   "metadata": {},
   "outputs": [
    {
     "name": "stdout",
     "output_type": "stream",
     "text": [
      "2018-04-01 00:10:28\n"
     ]
    }
   ],
   "source": [
    "print(wyp['start_time'][1])"
   ]
  },
  {
   "cell_type": "code",
   "execution_count": 26,
   "metadata": {},
   "outputs": [
    {
     "name": "stdout",
     "output_type": "stream",
     "text": [
      "1\n",
      "4\n",
      "2018\n"
     ]
    }
   ],
   "source": [
    "print(wyp['start_time'][1].day)\n",
    "print(wyp['start_time'][1].month)\n",
    "print(wyp['start_time'][1].year)"
   ]
  },
  {
   "cell_type": "code",
   "execution_count": 39,
   "metadata": {},
   "outputs": [],
   "source": [
    "wyp['day'] = wyp['start_time'].apply(lambda x: x.day)\n",
    "wyp['month'] = wyp['start_time'].apply(lambda x: x.month)"
   ]
  },
  {
   "cell_type": "markdown",
   "metadata": {},
   "source": [
    "Dzień z największą liczbą wypożyczeń"
   ]
  },
  {
   "cell_type": "code",
   "execution_count": 40,
   "metadata": {},
   "outputs": [
    {
     "data": {
      "text/plain": [
       "day  month\n",
       "15   8        1525\n",
       "20   6        1478\n",
       "14   4        1459\n",
       "6    6        1440\n",
       "31   5        1440\n",
       "              ... \n",
       "1    4          47\n",
       "2    12         45\n",
       "11   12         44\n",
       "9    12         41\n",
       "16   12         30\n",
       "Name: duration_sec, Length: 260, dtype: int64"
      ]
     },
     "execution_count": 40,
     "metadata": {},
     "output_type": "execute_result"
    }
   ],
   "source": [
    "wyp.groupby(['day', 'month'])['duration_sec'].count().sort_values(ascending=False)"
   ]
  },
  {
   "cell_type": "markdown",
   "metadata": {},
   "source": [
    "Miesiąc z najwyższą liczbą wypożyczeń"
   ]
  },
  {
   "cell_type": "code",
   "execution_count": 41,
   "metadata": {},
   "outputs": [
    {
     "data": {
      "text/plain": [
       "month\n",
       "8    33383\n",
       "Name: bike_num, dtype: int64"
      ]
     },
     "execution_count": 41,
     "metadata": {},
     "output_type": "execute_result"
    }
   ],
   "source": [
    "wyp.groupby('month')['bike_num'].count().sort_values(ascending=False).head(1)"
   ]
  },
  {
   "cell_type": "markdown",
   "metadata": {},
   "source": [
    "Poza zadaniem: Liczba unikalnych rowerów miejskich"
   ]
  },
  {
   "cell_type": "code",
   "execution_count": 43,
   "metadata": {},
   "outputs": [
    {
     "data": {
      "text/plain": [
       "422"
      ]
     },
     "execution_count": 43,
     "metadata": {},
     "output_type": "execute_result"
    }
   ],
   "source": [
    "wyp.bike_num.nunique()"
   ]
  },
  {
   "cell_type": "markdown",
   "metadata": {},
   "source": [
    "### Dni tygodnia"
   ]
  },
  {
   "cell_type": "code",
   "execution_count": 33,
   "metadata": {},
   "outputs": [],
   "source": [
    "wyp['day_of_week'] = pd.to_datetime(wyp['start_time']).dt.day_name()"
   ]
  },
  {
   "cell_type": "code",
   "execution_count": 34,
   "metadata": {},
   "outputs": [],
   "source": [
    "wyp['day_of_week_n'] = wyp['day_of_week'].apply(lambda x: 'weekend' if x in ['Sunday', 'Saturday'] else 'week')"
   ]
  },
  {
   "cell_type": "code",
   "execution_count": 46,
   "metadata": {},
   "outputs": [
    {
     "data": {
      "text/html": [
       "<div>\n",
       "<style scoped>\n",
       "    .dataframe tbody tr th:only-of-type {\n",
       "        vertical-align: middle;\n",
       "    }\n",
       "\n",
       "    .dataframe tbody tr th {\n",
       "        vertical-align: top;\n",
       "    }\n",
       "\n",
       "    .dataframe thead th {\n",
       "        text-align: right;\n",
       "    }\n",
       "</style>\n",
       "<table border=\"1\" class=\"dataframe\">\n",
       "  <thead>\n",
       "    <tr style=\"text-align: right;\">\n",
       "      <th></th>\n",
       "      <th>bike_num</th>\n",
       "      <th>start_time</th>\n",
       "      <th>end_time</th>\n",
       "      <th>departure</th>\n",
       "      <th>return</th>\n",
       "      <th>duration_sec</th>\n",
       "      <th>day</th>\n",
       "      <th>month</th>\n",
       "      <th>day_of_week</th>\n",
       "      <th>day_of_week_n</th>\n",
       "    </tr>\n",
       "  </thead>\n",
       "  <tbody>\n",
       "    <tr>\n",
       "      <td>124645</td>\n",
       "      <td>58572</td>\n",
       "      <td>2018-08-06 20:20:49</td>\n",
       "      <td>2018-08-06 20:28:39</td>\n",
       "      <td>Koszutka – Plac Gwarków</td>\n",
       "      <td>Katowice Rynek</td>\n",
       "      <td>470</td>\n",
       "      <td>6</td>\n",
       "      <td>8</td>\n",
       "      <td>Monday</td>\n",
       "      <td>week</td>\n",
       "    </tr>\n",
       "    <tr>\n",
       "      <td>136181</td>\n",
       "      <td>58532</td>\n",
       "      <td>2018-08-16 18:03:57</td>\n",
       "      <td>2018-08-16 18:08:33</td>\n",
       "      <td>Murapol Mariacka</td>\n",
       "      <td>Ul. Powstańców - Biblioteka Śląska</td>\n",
       "      <td>276</td>\n",
       "      <td>16</td>\n",
       "      <td>8</td>\n",
       "      <td>Thursday</td>\n",
       "      <td>week</td>\n",
       "    </tr>\n",
       "    <tr>\n",
       "      <td>45312</td>\n",
       "      <td>58402</td>\n",
       "      <td>2018-05-20 15:29:38</td>\n",
       "      <td>2018-05-20 16:10:15</td>\n",
       "      <td>Katowice Rynek</td>\n",
       "      <td>Al. Księcia Henryka Pobożnego</td>\n",
       "      <td>2437</td>\n",
       "      <td>20</td>\n",
       "      <td>5</td>\n",
       "      <td>Sunday</td>\n",
       "      <td>weekend</td>\n",
       "    </tr>\n",
       "    <tr>\n",
       "      <td>26149</td>\n",
       "      <td>58459</td>\n",
       "      <td>2018-04-28 20:22:35</td>\n",
       "      <td>2018-04-28 21:31:18</td>\n",
       "      <td>Al. Księcia Henryka Pobożnego</td>\n",
       "      <td>Al. Księcia Henryka Pobożnego</td>\n",
       "      <td>4123</td>\n",
       "      <td>28</td>\n",
       "      <td>4</td>\n",
       "      <td>Saturday</td>\n",
       "      <td>weekend</td>\n",
       "    </tr>\n",
       "    <tr>\n",
       "      <td>177925</td>\n",
       "      <td>58786</td>\n",
       "      <td>2018-10-13 13:45:08</td>\n",
       "      <td>2018-10-13 13:54:07</td>\n",
       "      <td>ING Sokolska</td>\n",
       "      <td>Silesia City Center</td>\n",
       "      <td>539</td>\n",
       "      <td>13</td>\n",
       "      <td>10</td>\n",
       "      <td>Saturday</td>\n",
       "      <td>weekend</td>\n",
       "    </tr>\n",
       "    <tr>\n",
       "      <td>59722</td>\n",
       "      <td>58654</td>\n",
       "      <td>2018-06-03 20:22:44</td>\n",
       "      <td>2018-06-03 20:49:30</td>\n",
       "      <td>Plac Wolności</td>\n",
       "      <td>Plac Sejmu Śląskiego</td>\n",
       "      <td>1606</td>\n",
       "      <td>3</td>\n",
       "      <td>6</td>\n",
       "      <td>Sunday</td>\n",
       "      <td>weekend</td>\n",
       "    </tr>\n",
       "    <tr>\n",
       "      <td>167948</td>\n",
       "      <td>58832</td>\n",
       "      <td>2018-09-22 19:45:27</td>\n",
       "      <td>2018-09-22 20:09:08</td>\n",
       "      <td>Galeria 3 Stawy</td>\n",
       "      <td>Katowice Rynek</td>\n",
       "      <td>1421</td>\n",
       "      <td>22</td>\n",
       "      <td>9</td>\n",
       "      <td>Saturday</td>\n",
       "      <td>weekend</td>\n",
       "    </tr>\n",
       "    <tr>\n",
       "      <td>156646</td>\n",
       "      <td>58871</td>\n",
       "      <td>2018-09-07 20:00:26</td>\n",
       "      <td>2018-09-07 20:01:49</td>\n",
       "      <td>Murapol Mariacka</td>\n",
       "      <td>Murapol Mariacka</td>\n",
       "      <td>83</td>\n",
       "      <td>7</td>\n",
       "      <td>9</td>\n",
       "      <td>Friday</td>\n",
       "      <td>week</td>\n",
       "    </tr>\n",
       "    <tr>\n",
       "      <td>90160</td>\n",
       "      <td>58742</td>\n",
       "      <td>2018-07-02 21:35:00</td>\n",
       "      <td>2018-07-02 21:49:17</td>\n",
       "      <td>Piotrowice V L.O.</td>\n",
       "      <td>Ligota Wczasowa</td>\n",
       "      <td>857</td>\n",
       "      <td>2</td>\n",
       "      <td>7</td>\n",
       "      <td>Monday</td>\n",
       "      <td>week</td>\n",
       "    </tr>\n",
       "    <tr>\n",
       "      <td>183825</td>\n",
       "      <td>58385</td>\n",
       "      <td>2018-10-29 11:16:57</td>\n",
       "      <td>2018-10-29 11:39:50</td>\n",
       "      <td>Ligota Wczasowa</td>\n",
       "      <td>Kostuchna – Bażantów</td>\n",
       "      <td>1373</td>\n",
       "      <td>29</td>\n",
       "      <td>10</td>\n",
       "      <td>Monday</td>\n",
       "      <td>week</td>\n",
       "    </tr>\n",
       "  </tbody>\n",
       "</table>\n",
       "</div>"
      ],
      "text/plain": [
       "        bike_num          start_time            end_time  \\\n",
       "124645     58572 2018-08-06 20:20:49 2018-08-06 20:28:39   \n",
       "136181     58532 2018-08-16 18:03:57 2018-08-16 18:08:33   \n",
       "45312      58402 2018-05-20 15:29:38 2018-05-20 16:10:15   \n",
       "26149      58459 2018-04-28 20:22:35 2018-04-28 21:31:18   \n",
       "177925     58786 2018-10-13 13:45:08 2018-10-13 13:54:07   \n",
       "59722      58654 2018-06-03 20:22:44 2018-06-03 20:49:30   \n",
       "167948     58832 2018-09-22 19:45:27 2018-09-22 20:09:08   \n",
       "156646     58871 2018-09-07 20:00:26 2018-09-07 20:01:49   \n",
       "90160      58742 2018-07-02 21:35:00 2018-07-02 21:49:17   \n",
       "183825     58385 2018-10-29 11:16:57 2018-10-29 11:39:50   \n",
       "\n",
       "                            departure                              return  \\\n",
       "124645        Koszutka – Plac Gwarków                      Katowice Rynek   \n",
       "136181               Murapol Mariacka  Ul. Powstańców - Biblioteka Śląska   \n",
       "45312                  Katowice Rynek       Al. Księcia Henryka Pobożnego   \n",
       "26149   Al. Księcia Henryka Pobożnego       Al. Księcia Henryka Pobożnego   \n",
       "177925                   ING Sokolska                 Silesia City Center   \n",
       "59722                   Plac Wolności                Plac Sejmu Śląskiego   \n",
       "167948                Galeria 3 Stawy                      Katowice Rynek   \n",
       "156646               Murapol Mariacka                    Murapol Mariacka   \n",
       "90160               Piotrowice V L.O.                     Ligota Wczasowa   \n",
       "183825                Ligota Wczasowa                Kostuchna – Bażantów   \n",
       "\n",
       "        duration_sec  day  month day_of_week day_of_week_n  \n",
       "124645           470    6      8      Monday          week  \n",
       "136181           276   16      8    Thursday          week  \n",
       "45312           2437   20      5      Sunday       weekend  \n",
       "26149           4123   28      4    Saturday       weekend  \n",
       "177925           539   13     10    Saturday       weekend  \n",
       "59722           1606    3      6      Sunday       weekend  \n",
       "167948          1421   22      9    Saturday       weekend  \n",
       "156646            83    7      9      Friday          week  \n",
       "90160            857    2      7      Monday          week  \n",
       "183825          1373   29     10      Monday          week  "
      ]
     },
     "execution_count": 46,
     "metadata": {},
     "output_type": "execute_result"
    }
   ],
   "source": [
    "wyp.sample(10)"
   ]
  },
  {
   "cell_type": "code",
   "execution_count": 36,
   "metadata": {},
   "outputs": [
    {
     "data": {
      "text/plain": [
       "day_of_week\n",
       "Sunday       28947\n",
       "Wednesday    28485\n",
       "Monday       27830\n",
       "Thursday     27525\n",
       "Tuesday      27139\n",
       "Friday       26707\n",
       "Saturday     26695\n",
       "Name: bike_num, dtype: int64"
      ]
     },
     "execution_count": 36,
     "metadata": {},
     "output_type": "execute_result"
    }
   ],
   "source": [
    "wyp.groupby('day_of_week')['bike_num'].count().sort_values(ascending=False)"
   ]
  },
  {
   "cell_type": "markdown",
   "metadata": {},
   "source": [
    "# CityBike 2017"
   ]
  },
  {
   "cell_type": "code",
   "execution_count": 3,
   "metadata": {},
   "outputs": [
    {
     "name": "stdout",
     "output_type": "stream",
     "text": [
      "<class 'pandas.core.frame.DataFrame'>\n",
      "RangeIndex: 102256 entries, 0 to 102255\n",
      "Data columns (total 6 columns):\n",
      "bike_num        102256 non-null int64\n",
      "start_time      102256 non-null object\n",
      "end_time        102256 non-null object\n",
      "departure       102256 non-null object\n",
      "return          102256 non-null object\n",
      "duration_sec    102256 non-null int64\n",
      "dtypes: int64(2), object(4)\n",
      "memory usage: 4.7+ MB\n"
     ]
    }
   ],
   "source": [
    "import pandas as pd\n",
    "df = pd.read_csv('./data_01/wyp_2017.csv')\n",
    "df.info()"
   ]
  },
  {
   "cell_type": "markdown",
   "metadata": {},
   "source": [
    "## Średni czas wypożyczenia "
   ]
  },
  {
   "cell_type": "code",
   "execution_count": 4,
   "metadata": {},
   "outputs": [
    {
     "data": {
      "text/plain": [
       "2021.376134407761"
      ]
     },
     "execution_count": 4,
     "metadata": {},
     "output_type": "execute_result"
    }
   ],
   "source": [
    "df.duration_sec.mean()"
   ]
  },
  {
   "cell_type": "markdown",
   "metadata": {},
   "source": [
    "## Liczba bezpłatnych wypożyczeń\n",
    "Czas wypożyczenia < 15 min"
   ]
  },
  {
   "cell_type": "code",
   "execution_count": 5,
   "metadata": {},
   "outputs": [
    {
     "data": {
      "text/plain": [
       "bike_num        57998\n",
       "start_time      57998\n",
       "end_time        57998\n",
       "departure       57998\n",
       "return          57998\n",
       "duration_sec    57998\n",
       "dtype: int64"
      ]
     },
     "execution_count": 5,
     "metadata": {},
     "output_type": "execute_result"
    }
   ],
   "source": [
    "df[df.duration_sec < 15*60 ].count()"
   ]
  },
  {
   "cell_type": "markdown",
   "metadata": {},
   "source": [
    "## Najpopularniejszy rower"
   ]
  },
  {
   "cell_type": "code",
   "execution_count": 8,
   "metadata": {},
   "outputs": [
    {
     "data": {
      "text/plain": [
       "bike_num\n",
       "58521    627\n",
       "Name: bike_num, dtype: int64"
      ]
     },
     "execution_count": 8,
     "metadata": {},
     "output_type": "execute_result"
    }
   ],
   "source": [
    "df.groupby('bike_num')['bike_num'].count().sort_values(ascending=False).head(1)"
   ]
  },
  {
   "cell_type": "markdown",
   "metadata": {},
   "source": [
    "## Liczba wypożyczeń per stacja"
   ]
  },
  {
   "cell_type": "code",
   "execution_count": 9,
   "metadata": {},
   "outputs": [
    {
     "data": {
      "text/plain": [
       "bike_num\n",
       "58521    627\n",
       "Name: bike_num, dtype: int64"
      ]
     },
     "execution_count": 9,
     "metadata": {},
     "output_type": "execute_result"
    }
   ],
   "source": [
    "df.groupby('bike_num')['bike_num'].count().sort_values(ascending=False).head(1)"
   ]
  },
  {
   "cell_type": "markdown",
   "metadata": {},
   "source": [
    "## Liczba zwrotów per stacja"
   ]
  },
  {
   "cell_type": "code",
   "execution_count": 11,
   "metadata": {},
   "outputs": [
    {
     "data": {
      "text/plain": [
       "return\n",
       "Katowice Rynek                           19062\n",
       "Al. Księcia Henryka Pobożnego             5214\n",
       "Al. Bolesława Krzywoustego                5204\n",
       "Silesia City Center                       5193\n",
       "KTBS – Krasińskiego 14                    5161\n",
       "Murapol Mariacka                          5121\n",
       "Dolina 3-ch Stawów                        4633\n",
       "NOSPR Katowice                            4056\n",
       "Ul. Powstańców - Biblioteka Śląska        3469\n",
       "Murapol Chorzowska                        3452\n",
       "Ligota Medyków                            3404\n",
       "Plac Sejmu Śląskiego                      3037\n",
       "Park Kościuszki                           3009\n",
       "Al. Księżnej Jadwigi Śląskiej             2791\n",
       "Ligota Wczasowa                           2696\n",
       "Ligota Dworzec PKP                        2679\n",
       "KTBS – Saint Etienne 1                    2617\n",
       "Galeria 3 Stawy                           2516\n",
       "Bogucice Szpital                          2090\n",
       "Załęże Skwer S. Barei                     1997\n",
       "Politechnika Śląska                       1860\n",
       "Skwer Bolesława Szabelskiego              1716\n",
       "Zadole Kościół                            1614\n",
       "Osiedle Franciszkańskie                   1573\n",
       "Silesia Business Park                     1418\n",
       "Łętowskiego S.P. nr 27                    1383\n",
       "Armii Krajowej/Jankego                    1329\n",
       "Piotrowice V L.O.                         1270\n",
       "Kokociniec S.P nr 67                      1149\n",
       "Osiedle Witosa - Plac Herberta             404\n",
       "Giszowiec - Plac Pod Lipami                375\n",
       "Nikiszowiec Lodowisko Jantor               331\n",
       "Szopienice - Plac Powstańców Śląskich      243\n",
       "Murcki - Park Murckowski                   190\n",
       "Name: duration_sec, dtype: int64"
      ]
     },
     "execution_count": 11,
     "metadata": {},
     "output_type": "execute_result"
    }
   ],
   "source": [
    "df.groupby('return')['duration_sec'].count().sort_values(ascending=False)"
   ]
  },
  {
   "cell_type": "markdown",
   "metadata": {},
   "source": [
    "## Najpopularniejsza trasa"
   ]
  },
  {
   "cell_type": "code",
   "execution_count": 12,
   "metadata": {},
   "outputs": [
    {
     "data": {
      "text/plain": [
       "departure                       return                               \n",
       "Katowice Rynek                  Katowice Rynek                           5954\n",
       "Dolina 3-ch Stawów              Dolina 3-ch Stawów                       3003\n",
       "Al. Księcia Henryka Pobożnego   Al. Księcia Henryka Pobożnego            2980\n",
       "Al. Bolesława Krzywoustego      Al. Bolesława Krzywoustego               2215\n",
       "KTBS – Krasińskiego 14          Katowice Rynek                           2044\n",
       "                                                                         ... \n",
       "Politechnika Śląska             Giszowiec - Plac Pod Lipami                 1\n",
       "Osiedle Witosa - Plac Herberta  Galeria 3 Stawy                             1\n",
       "Politechnika Śląska             Kokociniec S.P nr 67                        1\n",
       "KTBS – Krasińskiego 14          Szopienice - Plac Powstańców Śląskich       1\n",
       "Kokociniec S.P nr 67            Galeria 3 Stawy                             1\n",
       "Name: duration_sec, Length: 940, dtype: int64"
      ]
     },
     "execution_count": 12,
     "metadata": {},
     "output_type": "execute_result"
    }
   ],
   "source": [
    "df.groupby(['departure', 'return'])['duration_sec'].count().sort_values(ascending=False)"
   ]
  },
  {
   "cell_type": "markdown",
   "metadata": {},
   "source": [
    "## Najpopularniejszy miesiąc"
   ]
  },
  {
   "cell_type": "code",
   "execution_count": 13,
   "metadata": {},
   "outputs": [
    {
     "name": "stdout",
     "output_type": "stream",
     "text": [
      "<class 'pandas.core.frame.DataFrame'>\n",
      "RangeIndex: 102256 entries, 0 to 102255\n",
      "Data columns (total 6 columns):\n",
      "bike_num        102256 non-null int64\n",
      "start_time      102256 non-null datetime64[ns]\n",
      "end_time        102256 non-null datetime64[ns]\n",
      "departure       102256 non-null object\n",
      "return          102256 non-null object\n",
      "duration_sec    102256 non-null int64\n",
      "dtypes: datetime64[ns](2), int64(2), object(2)\n",
      "memory usage: 4.7+ MB\n"
     ]
    }
   ],
   "source": [
    "df['start_time'] = pd.to_datetime(df['start_time'], format='%Y-%m-%d %H:%M:%S')\n",
    "df['end_time'] = pd.to_datetime(df['end_time'], format='%Y-%m-%d %H:%M:%S')\n",
    "df.info()"
   ]
  },
  {
   "cell_type": "code",
   "execution_count": 14,
   "metadata": {},
   "outputs": [],
   "source": [
    "df['day'] = df['start_time'].apply(lambda x: x.day)\n",
    "df['month'] = df['start_time'].apply(lambda x: x.month)"
   ]
  },
  {
   "cell_type": "code",
   "execution_count": 15,
   "metadata": {},
   "outputs": [
    {
     "data": {
      "text/plain": [
       "day  month\n",
       "18   5        1328\n",
       "28   5        1275\n",
       "17   5        1260\n",
       "19   5        1179\n",
       "14   5        1163\n",
       "              ... \n",
       "8    10         45\n",
       "28   4          45\n",
       "23   9          32\n",
       "29   10         17\n",
       "17   9          16\n",
       "Name: duration_sec, Length: 202, dtype: int64"
      ]
     },
     "execution_count": 15,
     "metadata": {},
     "output_type": "execute_result"
    }
   ],
   "source": [
    "df.groupby(['day', 'month'])['duration_sec'].count().sort_values(ascending=False)"
   ]
  },
  {
   "cell_type": "code",
   "execution_count": 16,
   "metadata": {},
   "outputs": [
    {
     "data": {
      "text/plain": [
       "month\n",
       "5    24392\n",
       "Name: bike_num, dtype: int64"
      ]
     },
     "execution_count": 16,
     "metadata": {},
     "output_type": "execute_result"
    }
   ],
   "source": [
    "df.groupby('month')['bike_num'].count().sort_values(ascending=False).head(1)"
   ]
  },
  {
   "cell_type": "code",
   "execution_count": 37,
   "metadata": {},
   "outputs": [
    {
     "data": {
      "image/png": "[encoded data removed]",
      "text/plain": [
       "<Figure size 432x288 with 1 Axes>"
      ]
     },
     "metadata": {
      "needs_background": "light"
     },
     "output_type": "display_data"
    }
   ],
   "source": [
    "plt.hist(wyp.duration_sec, bins=10);"
   ]
  },
  {
   "cell_type": "code",
   "execution_count": null,
   "metadata": {},
   "outputs": [],
   "source": []
  }
 ],
 "metadata": {
  "kernelspec": {
   "display_name": "Python 3",
   "language": "python",
   "name": "python3"
  },
  "language_info": {
   "codemirror_mode": {
    "name": "ipython",
    "version": 3
   },
   "file_extension": ".py",
   "mimetype": "text/x-python",
   "name": "python",
   "nbconvert_exporter": "python",
   "pygments_lexer": "ipython3",
   "version": "3.7.7"
  }
 },
 "nbformat": 4,
 "nbformat_minor": 4
}
